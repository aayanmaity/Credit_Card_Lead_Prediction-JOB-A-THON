{
 "cells": [
  {
   "cell_type": "markdown",
   "metadata": {},
   "source": [
    "### Loading Important Libraries "
   ]
  },
  {
   "cell_type": "code",
   "execution_count": 1,
   "metadata": {},
   "outputs": [],
   "source": [
    "import pandas as pd \n",
    "import numpy as np \n",
    "import warnings\n",
    "warnings.filterwarnings(\"ignore\")\n",
    "from sklearn.preprocessing import KBinsDiscretizer , LabelEncoder\n",
    "from scipy import stats\n",
    "from sklearn.metrics import roc_auc_score\n",
    "import lightgbm\n",
    "from lightgbm import LGBMClassifier"
   ]
  },
  {
   "cell_type": "markdown",
   "metadata": {},
   "source": [
    "### Loading Data"
   ]
  },
  {
   "cell_type": "code",
   "execution_count": 2,
   "metadata": {},
   "outputs": [],
   "source": [
    "#Loading train data \n",
    "train_data = pd.read_csv(\"train.csv\")\n",
    "#Loading test data \n",
    "test_data =  pd.read_csv(\"test.csv\")"
   ]
  },
  {
   "cell_type": "code",
   "execution_count": 3,
   "metadata": {},
   "outputs": [],
   "source": [
    "#Numerical columns\n",
    "num_cols = ['Age', 'Vintage', 'Avg_Account_Balance']\n",
    "#Categorical columns\n",
    "cat_cols = ['Gender', 'Region_Code', 'Occupation', 'Channel_Code', 'Credit_Product', 'Is_Active']\n",
    "#Target\n",
    "target = 'Is_Lead'"
   ]
  },
  {
   "cell_type": "markdown",
   "metadata": {},
   "source": [
    "### Data Preprocessing "
   ]
  },
  {
   "cell_type": "markdown",
   "metadata": {},
   "source": [
    "Missing Value Imputation "
   ]
  },
  {
   "cell_type": "code",
   "execution_count": 4,
   "metadata": {},
   "outputs": [],
   "source": [
    "## Filling missing values with another level, treating them as a separate category\n",
    "## \"UA\" = Unavailable\n",
    "train_data = train_data.fillna(\"UA\")\n",
    "test_data = test_data.fillna(\"UA\")"
   ]
  },
  {
   "cell_type": "markdown",
   "metadata": {},
   "source": [
    "Outlier Removal"
   ]
  },
  {
   "cell_type": "code",
   "execution_count": 5,
   "metadata": {},
   "outputs": [],
   "source": [
    "## Removing 'Avg Account Balance' in train data,\n",
    "## Which are larger than max value of 'Avg Account Balance' in test data.\n",
    "\n",
    "train_data = train_data[train_data['Avg_Account_Balance']<=max(test_data.Avg_Account_Balance)].reset_index(drop=True)"
   ]
  },
  {
   "cell_type": "markdown",
   "metadata": {},
   "source": [
    "### Feature Extraction / Feature Engineering "
   ]
  },
  {
   "cell_type": "markdown",
   "metadata": {},
   "source": [
    "Numerical Features "
   ]
  },
  {
   "cell_type": "code",
   "execution_count": 6,
   "metadata": {},
   "outputs": [],
   "source": [
    "## Log Transforming 'Avg Account Balance'\n",
    "train_data['Avg_Account_Balance_log'] = np.log(train_data['Avg_Account_Balance'])\n",
    "test_data['Avg_Account_Balance_log'] = np.log(test_data['Avg_Account_Balance'])"
   ]
  },
  {
   "cell_type": "code",
   "execution_count": 7,
   "metadata": {},
   "outputs": [],
   "source": [
    "## Boxcox transformation for 'Vintage' column\n",
    "fitted_data, fitted_lambda = stats.boxcox(np.abs(train_data['Vintage']))\n",
    "train_data['Vintage_box'] = fitted_data\n",
    "fitted_data, fitted_lambda = stats.boxcox(np.abs(test_data['Vintage']))\n",
    "test_data['Vintage_box'] = fitted_data"
   ]
  },
  {
   "cell_type": "code",
   "execution_count": 9,
   "metadata": {},
   "outputs": [],
   "source": [
    "## Binning 'Age' \n",
    "bins = KBinsDiscretizer(n_bins=8, encode='ordinal', strategy='quantile')\n",
    "bins.fit(train_data['Age'].values.reshape(-1,1))\n",
    "train_data['Age_quantiles'] = bins.transform(train_data['Age'].values.reshape(-1,1)).astype(int)\n",
    "test_data['Age_quantiles'] = bins.transform(test_data['Age'].values.reshape(-1,1)).astype(int)"
   ]
  },
  {
   "cell_type": "code",
   "execution_count": 11,
   "metadata": {},
   "outputs": [],
   "source": [
    "## Binning 'Avg Account Balance' \n",
    "bins = KBinsDiscretizer(n_bins=8, encode='ordinal', strategy='quantile')\n",
    "bins.fit(train_data['Vintage'].values.reshape(-1,1))\n",
    "train_data['Vintage_quantiles'] = bins.transform(train_data['Vintage'].values.reshape(-1,1)).astype(int)\n",
    "test_data['Vintage_quantiles'] = bins.transform(test_data['Vintage'].values.reshape(-1,1)).astype(int)"
   ]
  },
  {
   "cell_type": "markdown",
   "metadata": {},
   "source": [
    "Categorical Features"
   ]
  },
  {
   "cell_type": "code",
   "execution_count": 12,
   "metadata": {},
   "outputs": [],
   "source": [
    "# Label Encoding the categorical features \n",
    "\n",
    "## Custom fuction for label encoding \n",
    "\n",
    "def df_lbl_enc(df):\n",
    "    for c in cat_cols:\n",
    "        lbl = LabelEncoder()\n",
    "        df[c] = lbl.fit_transform(df[c])\n",
    "    return df\n",
    "\n",
    "## Label Encoding Categorical Columns in train data \n",
    "\n",
    "train_data = df_lbl_enc(train_data)\n",
    "\n",
    "## Label Encoding Categorical Columns in test data \n",
    "\n",
    "test_data = df_lbl_enc(test_data)"
   ]
  },
  {
   "cell_type": "code",
   "execution_count": 13,
   "metadata": {},
   "outputs": [],
   "source": [
    "# Frequency Encoding the 'Region Code'.\n",
    "## Train Data \n",
    "dic = train_data['Region_Code'].value_counts(normalize=True).to_dict()\n",
    "train_data['Region_Code'] = train_data['Region_Code'].map(dic)\n",
    "## Test Data\n",
    "dic = test_data['Region_Code'].value_counts(normalize=True).to_dict()\n",
    "test_data['Region_Code'] = test_data['Region_Code'].map(dic)"
   ]
  },
  {
   "cell_type": "code",
   "execution_count": 14,
   "metadata": {},
   "outputs": [],
   "source": [
    "## New Categorical Columns After Feature Extraction \n",
    "\n",
    "new_cat_cols = [ 'Occupation', 'Channel_Code', 'Credit_Product', 'Is_Active', 'Age_quantiles','Vintage_quantiles']"
   ]
  },
  {
   "cell_type": "markdown",
   "metadata": {},
   "source": [
    "### Train/Test Split "
   ]
  },
  {
   "cell_type": "code",
   "execution_count": 17,
   "metadata": {},
   "outputs": [],
   "source": [
    "## Preparing Train data \n",
    "## Dropping few columns\n",
    "X_train = train_data.drop(['ID', 'Gender','Is_Lead','Vintage', 'Avg_Account_Balance'], axis=1)\n",
    "y_train = train_data[target].values\n",
    "## Preparing Test data \n",
    "## Dropping few columns\n",
    "ID = test_data['ID']\n",
    "X_test = test_data.drop(['ID','Gender', 'Vintage', 'Avg_Account_Balance'], axis=1)"
   ]
  },
  {
   "cell_type": "markdown",
   "metadata": {},
   "source": [
    "### Model Building "
   ]
  },
  {
   "cell_type": "code",
   "execution_count": 18,
   "metadata": {},
   "outputs": [
    {
     "name": "stdout",
     "output_type": "stream",
     "text": [
      "[LightGBM] [Warning] min_data_in_leaf is set=50, min_child_samples=20 will be ignored. Current value: min_data_in_leaf=50\n"
     ]
    },
    {
     "data": {
      "text/plain": [
       "LGBMClassifier(boosting_type='dart', class_weight='balanced', max_depth=8,\n",
       "               min_data_in_leaf=50, num_iterations=300, objective='binary')"
      ]
     },
     "execution_count": 18,
     "metadata": {},
     "output_type": "execute_result"
    }
   ],
   "source": [
    "LGB_model = LGBMClassifier(boosting_type= 'dart', \n",
    "                           num_leaves = 31,\n",
    "                           objective = 'binary',\n",
    "                           max_depth = 8,\n",
    "                           num_iterations = 300,\n",
    "                           class_weight='balanced',\n",
    "                           min_data_in_leaf = 50,\n",
    "                           learning_rate = 0.1)\n",
    "\n",
    "\n",
    "LGB_model.fit(X_train,y_train,categorical_feature = new_cat_cols,verbose = 0)"
   ]
  },
  {
   "cell_type": "markdown",
   "metadata": {},
   "source": [
    "### Prediction / Train Score "
   ]
  },
  {
   "cell_type": "code",
   "execution_count": 19,
   "metadata": {},
   "outputs": [
    {
     "name": "stdout",
     "output_type": "stream",
     "text": [
      "0.8802825893483177\n"
     ]
    }
   ],
   "source": [
    "#Predicting on train data \n",
    "train_pred = LGB_model.predict_proba(X_train)[:,1]\n",
    "# Getting ROC_AUC Score \n",
    "Train_score_LGB = roc_auc_score(y_train,train_pred)\n",
    "# Printing Score \n",
    "print(Train_score_LGB)"
   ]
  },
  {
   "cell_type": "markdown",
   "metadata": {},
   "source": [
    "### Feature Importance "
   ]
  },
  {
   "cell_type": "code",
   "execution_count": 20,
   "metadata": {},
   "outputs": [
    {
     "data": {
      "text/plain": [
       "<AxesSubplot:title={'center':'Feature importance'}, xlabel='Feature importance', ylabel='Features'>"
      ]
     },
     "execution_count": 20,
     "metadata": {},
     "output_type": "execute_result"
    },
    {
     "data": {
      "image/png": "[encoded data removed]",
      "text/plain": [
       "<Figure size 432x288 with 1 Axes>"
      ]
     },
     "metadata": {
      "needs_background": "light"
     },
     "output_type": "display_data"
    }
   ],
   "source": [
    "import lightgbm\n",
    "lightgbm.plot_importance(LGB_model)"
   ]
  },
  {
   "cell_type": "markdown",
   "metadata": {},
   "source": [
    "### Predicting on test data and final submission "
   ]
  },
  {
   "cell_type": "code",
   "execution_count": 21,
   "metadata": {},
   "outputs": [],
   "source": [
    "#Predicting on test data \n",
    "test_pred = LGB_model.predict_proba(X_test)[:,1]"
   ]
  },
  {
   "cell_type": "code",
   "execution_count": 22,
   "metadata": {},
   "outputs": [],
   "source": [
    "# Predictions \n",
    "res = pd.DataFrame(test_pred)\n",
    "ID = pd.DataFrame(ID)\n",
    "res = res.rename(columns={res.columns[0]: 'Is_Lead'})\n",
    "submission = pd.concat([ID,res], axis = 1)\n",
    "\n",
    "submission.to_csv(\"LGBM_Final.csv\",index = False)"
   ]
  }
 ],
 "metadata": {
  "kernelspec": {
   "display_name": "Python 3",
   "language": "python",
   "name": "python3"
  },
  "language_info": {
   "codemirror_mode": {
    "name": "ipython",
    "version": 3
   },
   "file_extension": ".py",
   "mimetype": "text/x-python",
   "name": "python",
   "nbconvert_exporter": "python",
   "pygments_lexer": "ipython3",
   "version": "3.8.5"
  }
 },
 "nbformat": 4,
 "nbformat_minor": 4
}
