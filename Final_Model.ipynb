{
 "cells": [
  {
   "cell_type": "markdown",
   "metadata": {},
   "source": [
    "### Loading Important Libraries "
   ]
  },
  {
   "cell_type": "code",
   "execution_count": 1,
   "metadata": {},
   "outputs": [],
   "source": [
    "import pandas as pd \n",
    "import numpy as np \n",
    "import warnings\n",
    "warnings.filterwarnings(\"ignore\")\n",
    "from sklearn.preprocessing import KBinsDiscretizer , LabelEncoder\n",
    "from scipy import stats\n",
    "from sklearn.metrics import roc_auc_score\n",
    "import lightgbm\n",
    "from lightgbm import LGBMClassifier"
   ]
  },
  {
   "cell_type": "markdown",
   "metadata": {},
   "source": [
    "### Loading Data"
   ]
  },
  {
   "cell_type": "code",
   "execution_count": 2,
   "metadata": {},
   "outputs": [],
   "source": [
    "#Loading train data \n",
    "train_data = pd.read_csv(\"train.csv\")\n",
    "#Loading test data \n",
    "test_data =  pd.read_csv(\"test.csv\")"
   ]
  },
  {
   "cell_type": "code",
   "execution_count": 3,
   "metadata": {},
   "outputs": [],
   "source": [
    "#Numerical columns\n",
    "num_cols = ['Age', 'Vintage', 'Avg_Account_Balance']\n",
    "#Categorical columns\n",
    "cat_cols = ['Gender', 'Region_Code', 'Occupation', 'Channel_Code', 'Credit_Product', 'Is_Active']\n",
    "#Target\n",
    "target = 'Is_Lead'"
   ]
  },
  {
   "cell_type": "markdown",
   "metadata": {},
   "source": [
    "### Data Preprocessing "
   ]
  },
  {
   "cell_type": "markdown",
   "metadata": {},
   "source": [
    "Missing Value Imputation "
   ]
  },
  {
   "cell_type": "code",
   "execution_count": 4,
   "metadata": {},
   "outputs": [],
   "source": [
    "## Filling missing values with another level, treating them as a separate category\n",
    "## \"UA\" = Unavailable\n",
    "train_data = train_data.fillna(\"UA\")\n",
    "test_data = test_data.fillna(\"UA\")"
   ]
  },
  {
   "cell_type": "markdown",
   "metadata": {},
   "source": [
    "Outlier Removal"
   ]
  },
  {
   "cell_type": "code",
   "execution_count": 5,
   "metadata": {},
   "outputs": [],
   "source": [
    "## Removing 'Avg Account Balance' in train data,\n",
    "## Which are larger than max value of 'Avg Account Balance' in test data.\n",
    "\n",
    "train_data = train_data[train_data['Avg_Account_Balance']<=max(test_data.Avg_Account_Balance)].reset_index(drop=True)"
   ]
  },
  {
   "cell_type": "markdown",
   "metadata": {},
   "source": [
    "### Feature Extraction / Feature Engineering "
   ]
  },
  {
   "cell_type": "markdown",
   "metadata": {},
   "source": [
    "Numerical Features "
   ]
  },
  {
   "cell_type": "code",
   "execution_count": 6,
   "metadata": {},
   "outputs": [],
   "source": [
    "## Log Transforming 'Avg Account Balance'\n",
    "train_data['Avg_Account_Balance_log'] = np.log(train_data['Avg_Account_Balance'])\n",
    "test_data['Avg_Account_Balance_log'] = np.log(test_data['Avg_Account_Balance'])"
   ]
  },
  {
   "cell_type": "code",
   "execution_count": 7,
   "metadata": {},
   "outputs": [],
   "source": [
    "## Boxcox transformation for 'Vintage' column\n",
    "fitted_data, fitted_lambda = stats.boxcox(np.abs(train_data['Vintage']))\n",
    "train_data['Vintage_box'] = fitted_data\n",
    "fitted_data, fitted_lambda = stats.boxcox(np.abs(test_data['Vintage']))\n",
    "test_data['Vintage_box'] = fitted_data"
   ]
  },
  {
   "cell_type": "code",
   "execution_count": 8,
   "metadata": {},
   "outputs": [],
   "source": [
    "## Binning 'Age' \n",
    "bins = KBinsDiscretizer(n_bins=8, encode='ordinal', strategy='quantile')\n",
    "bins.fit(train_data['Age'].values.reshape(-1,1))\n",
    "train_data['Age_quantiles'] = bins.transform(train_data['Age'].values.reshape(-1,1)).astype(int)\n",
    "test_data['Age_quantiles'] = bins.transform(test_data['Age'].values.reshape(-1,1)).astype(int)"
   ]
  },
  {
   "cell_type": "code",
   "execution_count": 9,
   "metadata": {},
   "outputs": [],
   "source": [
    "## Binning 'Avg Account Balance' \n",
    "bins = KBinsDiscretizer(n_bins=8, encode='ordinal', strategy='quantile')\n",
    "bins.fit(train_data['Vintage'].values.reshape(-1,1))\n",
    "train_data['Vintage_quantiles'] = bins.transform(train_data['Vintage'].values.reshape(-1,1)).astype(int)\n",
    "test_data['Vintage_quantiles'] = bins.transform(test_data['Vintage'].values.reshape(-1,1)).astype(int)"
   ]
  },
  {
   "cell_type": "markdown",
   "metadata": {},
   "source": [
    "Categorical Features"
   ]
  },
  {
   "cell_type": "code",
   "execution_count": 10,
   "metadata": {},
   "outputs": [],
   "source": [
    "# Label Encoding the categorical features \n",
    "\n",
    "## Custom fuction for label encoding \n",
    "\n",
    "def df_lbl_enc(df):\n",
    "    for c in cat_cols:\n",
    "        lbl = LabelEncoder()\n",
    "        df[c] = lbl.fit_transform(df[c])\n",
    "    return df\n",
    "\n",
    "## Label Encoding Categorical Columns in train data \n",
    "\n",
    "train_data = df_lbl_enc(train_data)\n",
    "\n",
    "## Label Encoding Categorical Columns in test data \n",
    "\n",
    "test_data = df_lbl_enc(test_data)"
   ]
  },
  {
   "cell_type": "code",
   "execution_count": 11,
   "metadata": {},
   "outputs": [],
   "source": [
    "# Frequency Encoding the 'Region Code'.\n",
    "## Train Data \n",
    "dic = train_data['Region_Code'].value_counts(normalize=True).to_dict()\n",
    "train_data['Region_Code'] = train_data['Region_Code'].map(dic)\n",
    "## Test Data\n",
    "dic = test_data['Region_Code'].value_counts(normalize=True).to_dict()\n",
    "test_data['Region_Code'] = test_data['Region_Code'].map(dic)"
   ]
  },
  {
   "cell_type": "code",
   "execution_count": 19,
   "metadata": {},
   "outputs": [],
   "source": [
    "## New Categorical Columns After Feature Extraction \n",
    "\n",
    "new_cat_cols = ['Gender','Occupation','Channel_Code', 'Credit_Product', 'Is_Active', 'Age_quantiles','Vintage_quantiles']"
   ]
  },
  {
   "cell_type": "markdown",
   "metadata": {},
   "source": [
    "### Train/Test Split "
   ]
  },
  {
   "cell_type": "code",
   "execution_count": 20,
   "metadata": {},
   "outputs": [],
   "source": [
    "## Preparing Train data \n",
    "## Dropping few columns\n",
    "X_train = train_data.drop(['ID','Is_Lead','Vintage', 'Avg_Account_Balance'], axis=1)\n",
    "y_train = train_data[target].values\n",
    "## Preparing Test data \n",
    "## Dropping few columns\n",
    "ID = test_data['ID']\n",
    "X_test = test_data.drop(['ID', 'Vintage', 'Avg_Account_Balance'], axis=1)"
   ]
  },
  {
   "cell_type": "markdown",
   "metadata": {},
   "source": [
    "### Model Building "
   ]
  },
  {
   "cell_type": "raw",
   "metadata": {},
   "source": [
    "LGB_model = LGBMClassifier(boosting_type= 'dart', \n",
    "                           num_leaves = 31,\n",
    "                           objective = 'binary',\n",
    "                           max_depth = 8,\n",
    "                           num_iterations = 300,\n",
    "                           class_weight='balanced',\n",
    "                           min_data_in_leaf = 50,\n",
    "                           learning_rate = 0.1)\n",
    "\n",
    "\n",
    "LGB_model.fit(X_train,y_train,categorical_feature = new_cat_cols,verbose = 0)"
   ]
  },
  {
   "cell_type": "code",
   "execution_count": 40,
   "metadata": {
    "scrolled": true
   },
   "outputs": [
    {
     "name": "stdout",
     "output_type": "stream",
     "text": [
      "0:\tlearn: 0.6144556\ttotal: 196ms\tremaining: 58.8s\n",
      "1:\tlearn: 0.5532944\ttotal: 364ms\tremaining: 54.3s\n",
      "2:\tlearn: 0.5055481\ttotal: 559ms\tremaining: 55.4s\n",
      "3:\tlearn: 0.4691851\ttotal: 712ms\tremaining: 52.7s\n",
      "4:\tlearn: 0.4419488\ttotal: 911ms\tremaining: 53.7s\n",
      "5:\tlearn: 0.4212151\ttotal: 1.11s\tremaining: 54.6s\n",
      "6:\tlearn: 0.4059975\ttotal: 1.24s\tremaining: 52s\n",
      "7:\tlearn: 0.3936128\ttotal: 1.42s\tremaining: 51.7s\n",
      "8:\tlearn: 0.3839357\ttotal: 1.58s\tremaining: 51s\n",
      "9:\tlearn: 0.3766059\ttotal: 1.78s\tremaining: 51.7s\n",
      "10:\tlearn: 0.3706626\ttotal: 1.95s\tremaining: 51.3s\n",
      "11:\tlearn: 0.3659076\ttotal: 2.17s\tremaining: 52s\n",
      "12:\tlearn: 0.3620484\ttotal: 2.35s\tremaining: 51.8s\n",
      "13:\tlearn: 0.3595186\ttotal: 2.43s\tremaining: 49.6s\n",
      "14:\tlearn: 0.3572005\ttotal: 2.59s\tremaining: 49.2s\n",
      "15:\tlearn: 0.3552708\ttotal: 2.79s\tremaining: 49.5s\n",
      "16:\tlearn: 0.3537208\ttotal: 3.04s\tremaining: 50.6s\n",
      "17:\tlearn: 0.3524185\ttotal: 3.26s\tremaining: 51s\n",
      "18:\tlearn: 0.3513302\ttotal: 3.5s\tremaining: 51.8s\n",
      "19:\tlearn: 0.3507556\ttotal: 3.64s\tremaining: 51s\n",
      "20:\tlearn: 0.3504004\ttotal: 3.72s\tremaining: 49.5s\n",
      "21:\tlearn: 0.3493630\ttotal: 3.92s\tremaining: 49.5s\n",
      "22:\tlearn: 0.3484476\ttotal: 4.12s\tremaining: 49.6s\n",
      "23:\tlearn: 0.3477186\ttotal: 4.29s\tremaining: 49.4s\n",
      "24:\tlearn: 0.3471391\ttotal: 4.48s\tremaining: 49.3s\n",
      "25:\tlearn: 0.3465622\ttotal: 4.67s\tremaining: 49.2s\n",
      "26:\tlearn: 0.3461467\ttotal: 4.86s\tremaining: 49.2s\n",
      "27:\tlearn: 0.3458315\ttotal: 5.03s\tremaining: 48.8s\n",
      "28:\tlearn: 0.3455087\ttotal: 5.22s\tremaining: 48.8s\n",
      "29:\tlearn: 0.3452450\ttotal: 5.41s\tremaining: 48.7s\n",
      "30:\tlearn: 0.3449676\ttotal: 5.59s\tremaining: 48.5s\n",
      "31:\tlearn: 0.3447409\ttotal: 5.74s\tremaining: 48.1s\n",
      "32:\tlearn: 0.3444999\ttotal: 5.96s\tremaining: 48.2s\n",
      "33:\tlearn: 0.3442795\ttotal: 6.15s\tremaining: 48.1s\n",
      "34:\tlearn: 0.3441182\ttotal: 6.36s\tremaining: 48.2s\n",
      "35:\tlearn: 0.3439606\ttotal: 6.55s\tremaining: 48.1s\n",
      "36:\tlearn: 0.3438276\ttotal: 6.73s\tremaining: 47.8s\n",
      "37:\tlearn: 0.3437275\ttotal: 6.97s\tremaining: 48s\n",
      "38:\tlearn: 0.3435737\ttotal: 7.2s\tremaining: 48.2s\n",
      "39:\tlearn: 0.3434828\ttotal: 7.4s\tremaining: 48.1s\n",
      "40:\tlearn: 0.3433809\ttotal: 7.59s\tremaining: 47.9s\n",
      "41:\tlearn: 0.3432853\ttotal: 7.77s\tremaining: 47.8s\n",
      "42:\tlearn: 0.3431779\ttotal: 7.99s\tremaining: 47.8s\n",
      "43:\tlearn: 0.3430608\ttotal: 8.16s\tremaining: 47.5s\n",
      "44:\tlearn: 0.3430037\ttotal: 8.4s\tremaining: 47.6s\n",
      "45:\tlearn: 0.3429043\ttotal: 8.63s\tremaining: 47.6s\n",
      "46:\tlearn: 0.3428296\ttotal: 8.82s\tremaining: 47.5s\n",
      "47:\tlearn: 0.3427713\ttotal: 9.02s\tremaining: 47.4s\n",
      "48:\tlearn: 0.3427150\ttotal: 9.24s\tremaining: 47.4s\n",
      "49:\tlearn: 0.3426066\ttotal: 9.44s\tremaining: 47.2s\n",
      "50:\tlearn: 0.3425550\ttotal: 9.65s\tremaining: 47.1s\n",
      "51:\tlearn: 0.3424900\ttotal: 9.85s\tremaining: 47s\n",
      "52:\tlearn: 0.3424037\ttotal: 10.1s\tremaining: 46.8s\n",
      "53:\tlearn: 0.3423875\ttotal: 10.3s\tremaining: 46.7s\n",
      "54:\tlearn: 0.3423109\ttotal: 10.5s\tremaining: 46.7s\n",
      "55:\tlearn: 0.3422484\ttotal: 10.7s\tremaining: 46.6s\n",
      "56:\tlearn: 0.3421971\ttotal: 10.9s\tremaining: 46.4s\n",
      "57:\tlearn: 0.3421324\ttotal: 11.1s\tremaining: 46.3s\n",
      "58:\tlearn: 0.3420623\ttotal: 11.3s\tremaining: 46.1s\n",
      "59:\tlearn: 0.3420344\ttotal: 11.5s\tremaining: 45.9s\n",
      "60:\tlearn: 0.3419625\ttotal: 11.7s\tremaining: 45.8s\n",
      "61:\tlearn: 0.3419034\ttotal: 11.8s\tremaining: 45.5s\n",
      "62:\tlearn: 0.3418693\ttotal: 12.1s\tremaining: 45.4s\n",
      "63:\tlearn: 0.3418364\ttotal: 12.2s\tremaining: 45.1s\n",
      "64:\tlearn: 0.3417994\ttotal: 12.4s\tremaining: 44.9s\n",
      "65:\tlearn: 0.3417422\ttotal: 12.6s\tremaining: 44.7s\n",
      "66:\tlearn: 0.3417122\ttotal: 12.8s\tremaining: 44.6s\n",
      "67:\tlearn: 0.3416727\ttotal: 13s\tremaining: 44.5s\n",
      "68:\tlearn: 0.3416639\ttotal: 13.2s\tremaining: 44.3s\n",
      "69:\tlearn: 0.3416489\ttotal: 13.4s\tremaining: 44.1s\n",
      "70:\tlearn: 0.3416115\ttotal: 13.6s\tremaining: 44s\n",
      "71:\tlearn: 0.3416103\ttotal: 13.7s\tremaining: 43.5s\n",
      "72:\tlearn: 0.3415964\ttotal: 13.9s\tremaining: 43.2s\n",
      "73:\tlearn: 0.3415892\ttotal: 14.1s\tremaining: 43s\n",
      "74:\tlearn: 0.3415507\ttotal: 14.3s\tremaining: 42.8s\n",
      "75:\tlearn: 0.3415240\ttotal: 14.5s\tremaining: 42.7s\n",
      "76:\tlearn: 0.3414805\ttotal: 14.7s\tremaining: 42.6s\n",
      "77:\tlearn: 0.3414104\ttotal: 14.9s\tremaining: 42.5s\n",
      "78:\tlearn: 0.3413465\ttotal: 15.2s\tremaining: 42.5s\n",
      "79:\tlearn: 0.3413161\ttotal: 15.4s\tremaining: 42.2s\n",
      "80:\tlearn: 0.3413135\ttotal: 15.5s\tremaining: 41.8s\n",
      "81:\tlearn: 0.3412825\ttotal: 15.7s\tremaining: 41.6s\n",
      "82:\tlearn: 0.3412364\ttotal: 15.9s\tremaining: 41.5s\n",
      "83:\tlearn: 0.3412030\ttotal: 16.1s\tremaining: 41.3s\n",
      "84:\tlearn: 0.3412030\ttotal: 16.1s\tremaining: 40.7s\n",
      "85:\tlearn: 0.3412030\ttotal: 16.1s\tremaining: 40.2s\n",
      "86:\tlearn: 0.3411766\ttotal: 16.4s\tremaining: 40s\n",
      "87:\tlearn: 0.3411299\ttotal: 16.6s\tremaining: 39.9s\n",
      "88:\tlearn: 0.3411215\ttotal: 16.8s\tremaining: 39.8s\n",
      "89:\tlearn: 0.3411026\ttotal: 17s\tremaining: 39.6s\n",
      "90:\tlearn: 0.3410527\ttotal: 17.2s\tremaining: 39.5s\n",
      "91:\tlearn: 0.3409845\ttotal: 17.4s\tremaining: 39.4s\n",
      "92:\tlearn: 0.3409649\ttotal: 17.6s\tremaining: 39.1s\n",
      "93:\tlearn: 0.3409237\ttotal: 17.8s\tremaining: 38.9s\n",
      "94:\tlearn: 0.3409187\ttotal: 17.9s\tremaining: 38.5s\n",
      "95:\tlearn: 0.3408937\ttotal: 18s\tremaining: 38.3s\n",
      "96:\tlearn: 0.3408460\ttotal: 18.2s\tremaining: 38.1s\n",
      "97:\tlearn: 0.3408251\ttotal: 18.4s\tremaining: 37.9s\n",
      "98:\tlearn: 0.3407722\ttotal: 18.6s\tremaining: 37.7s\n",
      "99:\tlearn: 0.3407503\ttotal: 18.7s\tremaining: 37.5s\n",
      "100:\tlearn: 0.3407434\ttotal: 18.9s\tremaining: 37.3s\n",
      "101:\tlearn: 0.3406926\ttotal: 19.1s\tremaining: 37s\n",
      "102:\tlearn: 0.3406692\ttotal: 19.2s\tremaining: 36.8s\n",
      "103:\tlearn: 0.3406452\ttotal: 19.4s\tremaining: 36.6s\n",
      "104:\tlearn: 0.3405376\ttotal: 19.6s\tremaining: 36.4s\n",
      "105:\tlearn: 0.3404932\ttotal: 19.8s\tremaining: 36.2s\n",
      "106:\tlearn: 0.3404691\ttotal: 19.9s\tremaining: 35.9s\n",
      "107:\tlearn: 0.3404560\ttotal: 20.1s\tremaining: 35.7s\n",
      "108:\tlearn: 0.3404089\ttotal: 20.2s\tremaining: 35.5s\n",
      "109:\tlearn: 0.3403780\ttotal: 20.4s\tremaining: 35.3s\n",
      "110:\tlearn: 0.3402905\ttotal: 20.6s\tremaining: 35.1s\n",
      "111:\tlearn: 0.3402642\ttotal: 20.8s\tremaining: 34.9s\n",
      "112:\tlearn: 0.3402433\ttotal: 20.9s\tremaining: 34.7s\n",
      "113:\tlearn: 0.3401886\ttotal: 21.1s\tremaining: 34.5s\n",
      "114:\tlearn: 0.3401375\ttotal: 21.3s\tremaining: 34.3s\n",
      "115:\tlearn: 0.3400912\ttotal: 21.5s\tremaining: 34.1s\n",
      "116:\tlearn: 0.3400882\ttotal: 21.6s\tremaining: 33.8s\n",
      "117:\tlearn: 0.3400341\ttotal: 21.8s\tremaining: 33.6s\n",
      "118:\tlearn: 0.3399783\ttotal: 22s\tremaining: 33.4s\n",
      "119:\tlearn: 0.3399329\ttotal: 22.2s\tremaining: 33.2s\n",
      "120:\tlearn: 0.3398764\ttotal: 22.4s\tremaining: 33.1s\n",
      "121:\tlearn: 0.3398584\ttotal: 22.5s\tremaining: 32.9s\n",
      "122:\tlearn: 0.3398439\ttotal: 22.7s\tremaining: 32.7s\n",
      "123:\tlearn: 0.3398289\ttotal: 22.9s\tremaining: 32.5s\n",
      "124:\tlearn: 0.3398125\ttotal: 23.1s\tremaining: 32.3s\n",
      "125:\tlearn: 0.3397576\ttotal: 23.2s\tremaining: 32.1s\n",
      "126:\tlearn: 0.3397190\ttotal: 23.4s\tremaining: 31.9s\n",
      "127:\tlearn: 0.3396710\ttotal: 23.6s\tremaining: 31.7s\n",
      "128:\tlearn: 0.3396323\ttotal: 23.8s\tremaining: 31.6s\n",
      "129:\tlearn: 0.3395515\ttotal: 24s\tremaining: 31.4s\n",
      "130:\tlearn: 0.3395204\ttotal: 24.2s\tremaining: 31.3s\n",
      "131:\tlearn: 0.3394805\ttotal: 24.4s\tremaining: 31.1s\n",
      "132:\tlearn: 0.3394495\ttotal: 24.6s\tremaining: 30.9s\n",
      "133:\tlearn: 0.3394023\ttotal: 24.8s\tremaining: 30.7s\n",
      "134:\tlearn: 0.3393487\ttotal: 25s\tremaining: 30.5s\n",
      "135:\tlearn: 0.3393086\ttotal: 25.2s\tremaining: 30.4s\n",
      "136:\tlearn: 0.3392504\ttotal: 25.4s\tremaining: 30.2s\n",
      "137:\tlearn: 0.3392279\ttotal: 25.5s\tremaining: 30s\n",
      "138:\tlearn: 0.3391818\ttotal: 25.7s\tremaining: 29.8s\n",
      "139:\tlearn: 0.3391689\ttotal: 25.9s\tremaining: 29.6s\n",
      "140:\tlearn: 0.3391248\ttotal: 26.1s\tremaining: 29.4s\n",
      "141:\tlearn: 0.3390761\ttotal: 26.3s\tremaining: 29.2s\n",
      "142:\tlearn: 0.3390217\ttotal: 26.5s\tremaining: 29s\n",
      "143:\tlearn: 0.3389616\ttotal: 26.7s\tremaining: 28.9s\n",
      "144:\tlearn: 0.3389439\ttotal: 26.8s\tremaining: 28.7s\n",
      "145:\tlearn: 0.3388929\ttotal: 27s\tremaining: 28.5s\n",
      "146:\tlearn: 0.3388398\ttotal: 27.2s\tremaining: 28.3s\n",
      "147:\tlearn: 0.3387863\ttotal: 27.4s\tremaining: 28.2s\n",
      "148:\tlearn: 0.3387763\ttotal: 27.6s\tremaining: 27.9s\n",
      "149:\tlearn: 0.3387145\ttotal: 27.8s\tremaining: 27.8s\n",
      "150:\tlearn: 0.3386976\ttotal: 27.9s\tremaining: 27.6s\n",
      "151:\tlearn: 0.3386519\ttotal: 28.1s\tremaining: 27.4s\n",
      "152:\tlearn: 0.3386020\ttotal: 28.3s\tremaining: 27.2s\n",
      "153:\tlearn: 0.3385583\ttotal: 28.5s\tremaining: 27.1s\n",
      "154:\tlearn: 0.3385255\ttotal: 28.7s\tremaining: 26.9s\n",
      "155:\tlearn: 0.3384860\ttotal: 29s\tremaining: 26.7s\n",
      "156:\tlearn: 0.3384461\ttotal: 29.2s\tremaining: 26.6s\n",
      "157:\tlearn: 0.3383950\ttotal: 29.4s\tremaining: 26.4s\n",
      "158:\tlearn: 0.3383847\ttotal: 29.5s\tremaining: 26.2s\n",
      "159:\tlearn: 0.3383318\ttotal: 29.7s\tremaining: 26s\n",
      "160:\tlearn: 0.3382864\ttotal: 29.9s\tremaining: 25.9s\n",
      "161:\tlearn: 0.3382385\ttotal: 30.1s\tremaining: 25.7s\n",
      "162:\tlearn: 0.3382059\ttotal: 30.3s\tremaining: 25.5s\n",
      "163:\tlearn: 0.3381616\ttotal: 30.6s\tremaining: 25.3s\n",
      "164:\tlearn: 0.3381150\ttotal: 30.8s\tremaining: 25.2s\n",
      "165:\tlearn: 0.3380890\ttotal: 30.9s\tremaining: 25s\n",
      "166:\tlearn: 0.3380311\ttotal: 31.1s\tremaining: 24.8s\n",
      "167:\tlearn: 0.3380148\ttotal: 31.3s\tremaining: 24.6s\n",
      "168:\tlearn: 0.3379247\ttotal: 31.5s\tremaining: 24.4s\n",
      "169:\tlearn: 0.3378817\ttotal: 31.7s\tremaining: 24.3s\n",
      "170:\tlearn: 0.3378395\ttotal: 31.9s\tremaining: 24.1s\n",
      "171:\tlearn: 0.3377577\ttotal: 32.1s\tremaining: 23.9s\n",
      "172:\tlearn: 0.3377266\ttotal: 32.3s\tremaining: 23.7s\n",
      "173:\tlearn: 0.3376683\ttotal: 32.5s\tremaining: 23.5s\n",
      "174:\tlearn: 0.3376203\ttotal: 32.7s\tremaining: 23.4s\n",
      "175:\tlearn: 0.3375842\ttotal: 33s\tremaining: 23.2s\n",
      "176:\tlearn: 0.3375324\ttotal: 33.2s\tremaining: 23.1s\n",
      "177:\tlearn: 0.3375272\ttotal: 33.3s\tremaining: 22.9s\n",
      "178:\tlearn: 0.3374964\ttotal: 33.5s\tremaining: 22.7s\n",
      "179:\tlearn: 0.3374433\ttotal: 33.7s\tremaining: 22.5s\n",
      "180:\tlearn: 0.3374209\ttotal: 33.9s\tremaining: 22.3s\n",
      "181:\tlearn: 0.3374120\ttotal: 34.1s\tremaining: 22.1s\n",
      "182:\tlearn: 0.3373267\ttotal: 34.3s\tremaining: 21.9s\n",
      "183:\tlearn: 0.3372795\ttotal: 34.5s\tremaining: 21.7s\n",
      "184:\tlearn: 0.3372409\ttotal: 34.7s\tremaining: 21.6s\n",
      "185:\tlearn: 0.3372145\ttotal: 34.9s\tremaining: 21.4s\n",
      "186:\tlearn: 0.3371608\ttotal: 35.1s\tremaining: 21.2s\n",
      "187:\tlearn: 0.3371257\ttotal: 35.3s\tremaining: 21s\n",
      "188:\tlearn: 0.3371140\ttotal: 35.4s\tremaining: 20.8s\n",
      "189:\tlearn: 0.3370787\ttotal: 35.7s\tremaining: 20.6s\n",
      "190:\tlearn: 0.3370437\ttotal: 35.9s\tremaining: 20.5s\n",
      "191:\tlearn: 0.3369947\ttotal: 36.1s\tremaining: 20.3s\n",
      "192:\tlearn: 0.3369650\ttotal: 36.3s\tremaining: 20.1s\n",
      "193:\tlearn: 0.3369103\ttotal: 36.5s\tremaining: 19.9s\n",
      "194:\tlearn: 0.3368817\ttotal: 36.6s\tremaining: 19.7s\n",
      "195:\tlearn: 0.3368340\ttotal: 36.8s\tremaining: 19.5s\n",
      "196:\tlearn: 0.3367938\ttotal: 37s\tremaining: 19.4s\n",
      "197:\tlearn: 0.3367225\ttotal: 37.2s\tremaining: 19.2s\n",
      "198:\tlearn: 0.3366911\ttotal: 37.4s\tremaining: 19s\n",
      "199:\tlearn: 0.3366400\ttotal: 37.6s\tremaining: 18.8s\n",
      "200:\tlearn: 0.3365927\ttotal: 37.8s\tremaining: 18.6s\n",
      "201:\tlearn: 0.3365596\ttotal: 38s\tremaining: 18.4s\n",
      "202:\tlearn: 0.3365426\ttotal: 38.2s\tremaining: 18.2s\n",
      "203:\tlearn: 0.3364985\ttotal: 38.4s\tremaining: 18s\n",
      "204:\tlearn: 0.3364483\ttotal: 38.6s\tremaining: 17.9s\n",
      "205:\tlearn: 0.3364364\ttotal: 38.8s\tremaining: 17.7s\n",
      "206:\tlearn: 0.3364012\ttotal: 39s\tremaining: 17.5s\n",
      "207:\tlearn: 0.3363393\ttotal: 39.2s\tremaining: 17.3s\n",
      "208:\tlearn: 0.3362769\ttotal: 39.4s\tremaining: 17.1s\n",
      "209:\tlearn: 0.3362114\ttotal: 39.6s\tremaining: 17s\n",
      "210:\tlearn: 0.3361864\ttotal: 39.7s\tremaining: 16.8s\n",
      "211:\tlearn: 0.3361482\ttotal: 40s\tremaining: 16.6s\n",
      "212:\tlearn: 0.3361181\ttotal: 40.1s\tremaining: 16.4s\n",
      "213:\tlearn: 0.3360676\ttotal: 40.3s\tremaining: 16.2s\n",
      "214:\tlearn: 0.3360228\ttotal: 40.5s\tremaining: 16s\n",
      "215:\tlearn: 0.3359740\ttotal: 40.8s\tremaining: 15.8s\n",
      "216:\tlearn: 0.3359204\ttotal: 41s\tremaining: 15.7s\n",
      "217:\tlearn: 0.3358745\ttotal: 41.1s\tremaining: 15.5s\n",
      "218:\tlearn: 0.3358208\ttotal: 41.3s\tremaining: 15.3s\n",
      "219:\tlearn: 0.3357832\ttotal: 41.5s\tremaining: 15.1s\n",
      "220:\tlearn: 0.3357391\ttotal: 41.7s\tremaining: 14.9s\n",
      "221:\tlearn: 0.3357155\ttotal: 41.9s\tremaining: 14.7s\n",
      "222:\tlearn: 0.3356975\ttotal: 42.1s\tremaining: 14.5s\n",
      "223:\tlearn: 0.3356535\ttotal: 42.3s\tremaining: 14.4s\n",
      "224:\tlearn: 0.3355718\ttotal: 42.5s\tremaining: 14.2s\n",
      "225:\tlearn: 0.3355600\ttotal: 42.7s\tremaining: 14s\n",
      "226:\tlearn: 0.3355264\ttotal: 42.9s\tremaining: 13.8s\n",
      "227:\tlearn: 0.3354587\ttotal: 43.1s\tremaining: 13.6s\n",
      "228:\tlearn: 0.3354380\ttotal: 43.2s\tremaining: 13.4s\n",
      "229:\tlearn: 0.3354003\ttotal: 43.5s\tremaining: 13.2s\n",
      "230:\tlearn: 0.3353435\ttotal: 43.7s\tremaining: 13s\n",
      "231:\tlearn: 0.3353019\ttotal: 43.9s\tremaining: 12.9s\n",
      "232:\tlearn: 0.3352599\ttotal: 44s\tremaining: 12.7s\n",
      "233:\tlearn: 0.3352525\ttotal: 44.2s\tremaining: 12.5s\n",
      "234:\tlearn: 0.3352040\ttotal: 44.4s\tremaining: 12.3s\n",
      "235:\tlearn: 0.3351670\ttotal: 44.6s\tremaining: 12.1s\n",
      "236:\tlearn: 0.3351161\ttotal: 44.8s\tremaining: 11.9s\n",
      "237:\tlearn: 0.3350686\ttotal: 45s\tremaining: 11.7s\n",
      "238:\tlearn: 0.3350222\ttotal: 45.2s\tremaining: 11.5s\n",
      "239:\tlearn: 0.3349994\ttotal: 45.4s\tremaining: 11.4s\n",
      "240:\tlearn: 0.3349840\ttotal: 45.7s\tremaining: 11.2s\n",
      "241:\tlearn: 0.3349623\ttotal: 45.9s\tremaining: 11s\n",
      "242:\tlearn: 0.3349248\ttotal: 46.1s\tremaining: 10.8s\n",
      "243:\tlearn: 0.3348824\ttotal: 46.3s\tremaining: 10.6s\n",
      "244:\tlearn: 0.3348206\ttotal: 46.5s\tremaining: 10.4s\n",
      "245:\tlearn: 0.3348101\ttotal: 46.7s\tremaining: 10.2s\n",
      "246:\tlearn: 0.3347664\ttotal: 46.9s\tremaining: 10.1s\n",
      "247:\tlearn: 0.3347316\ttotal: 47.1s\tremaining: 9.87s\n",
      "248:\tlearn: 0.3347113\ttotal: 47.3s\tremaining: 9.69s\n",
      "249:\tlearn: 0.3346926\ttotal: 47.5s\tremaining: 9.5s\n",
      "250:\tlearn: 0.3346815\ttotal: 47.7s\tremaining: 9.31s\n",
      "251:\tlearn: 0.3346335\ttotal: 47.9s\tremaining: 9.13s\n",
      "252:\tlearn: 0.3346061\ttotal: 48.1s\tremaining: 8.94s\n",
      "253:\tlearn: 0.3345921\ttotal: 48.3s\tremaining: 8.75s\n",
      "254:\tlearn: 0.3345427\ttotal: 48.5s\tremaining: 8.56s\n",
      "255:\tlearn: 0.3345111\ttotal: 48.7s\tremaining: 8.37s\n",
      "256:\tlearn: 0.3344684\ttotal: 48.9s\tremaining: 8.18s\n",
      "257:\tlearn: 0.3344227\ttotal: 49.1s\tremaining: 7.99s\n",
      "258:\tlearn: 0.3344048\ttotal: 49.3s\tremaining: 7.81s\n",
      "259:\tlearn: 0.3343628\ttotal: 49.5s\tremaining: 7.62s\n",
      "260:\tlearn: 0.3343576\ttotal: 49.7s\tremaining: 7.43s\n",
      "261:\tlearn: 0.3343225\ttotal: 50s\tremaining: 7.25s\n",
      "262:\tlearn: 0.3342804\ttotal: 50.2s\tremaining: 7.06s\n",
      "263:\tlearn: 0.3342372\ttotal: 50.4s\tremaining: 6.87s\n",
      "264:\tlearn: 0.3342099\ttotal: 50.6s\tremaining: 6.68s\n",
      "265:\tlearn: 0.3341803\ttotal: 50.8s\tremaining: 6.49s\n",
      "266:\tlearn: 0.3341519\ttotal: 51.1s\tremaining: 6.31s\n",
      "267:\tlearn: 0.3340936\ttotal: 51.3s\tremaining: 6.13s\n",
      "268:\tlearn: 0.3340700\ttotal: 51.5s\tremaining: 5.94s\n",
      "269:\tlearn: 0.3340512\ttotal: 51.8s\tremaining: 5.75s\n",
      "270:\tlearn: 0.3340002\ttotal: 52s\tremaining: 5.56s\n",
      "271:\tlearn: 0.3339927\ttotal: 52.2s\tremaining: 5.37s\n",
      "272:\tlearn: 0.3339833\ttotal: 52.4s\tremaining: 5.18s\n",
      "273:\tlearn: 0.3339735\ttotal: 52.6s\tremaining: 4.99s\n",
      "274:\tlearn: 0.3339709\ttotal: 52.8s\tremaining: 4.8s\n",
      "275:\tlearn: 0.3339555\ttotal: 53s\tremaining: 4.61s\n",
      "276:\tlearn: 0.3339437\ttotal: 53.2s\tremaining: 4.41s\n",
      "277:\tlearn: 0.3339053\ttotal: 53.3s\tremaining: 4.22s\n",
      "278:\tlearn: 0.3338801\ttotal: 53.6s\tremaining: 4.03s\n",
      "279:\tlearn: 0.3338572\ttotal: 53.8s\tremaining: 3.84s\n",
      "280:\tlearn: 0.3338181\ttotal: 54s\tremaining: 3.65s\n",
      "281:\tlearn: 0.3338079\ttotal: 54.2s\tremaining: 3.46s\n",
      "282:\tlearn: 0.3337896\ttotal: 54.3s\tremaining: 3.26s\n",
      "283:\tlearn: 0.3337133\ttotal: 54.5s\tremaining: 3.07s\n",
      "284:\tlearn: 0.3336910\ttotal: 54.8s\tremaining: 2.88s\n",
      "285:\tlearn: 0.3336390\ttotal: 55s\tremaining: 2.69s\n",
      "286:\tlearn: 0.3336267\ttotal: 55.2s\tremaining: 2.5s\n",
      "287:\tlearn: 0.3335801\ttotal: 55.4s\tremaining: 2.31s\n",
      "288:\tlearn: 0.3335597\ttotal: 55.6s\tremaining: 2.12s\n",
      "289:\tlearn: 0.3335338\ttotal: 55.9s\tremaining: 1.93s\n",
      "290:\tlearn: 0.3335272\ttotal: 56s\tremaining: 1.73s\n",
      "291:\tlearn: 0.3335012\ttotal: 56.3s\tremaining: 1.54s\n",
      "292:\tlearn: 0.3334833\ttotal: 56.5s\tremaining: 1.35s\n",
      "293:\tlearn: 0.3334543\ttotal: 56.7s\tremaining: 1.16s\n",
      "294:\tlearn: 0.3334145\ttotal: 56.9s\tremaining: 964ms\n",
      "295:\tlearn: 0.3333552\ttotal: 57.1s\tremaining: 771ms\n",
      "296:\tlearn: 0.3333291\ttotal: 57.2s\tremaining: 578ms\n",
      "297:\tlearn: 0.3333139\ttotal: 57.4s\tremaining: 385ms\n",
      "298:\tlearn: 0.3332981\ttotal: 57.6s\tremaining: 193ms\n",
      "299:\tlearn: 0.3332696\ttotal: 57.8s\tremaining: 0us\n"
     ]
    },
    {
     "data": {
      "text/plain": [
       "<catboost.core.CatBoostClassifier at 0x2c2c7c4ddc0>"
      ]
     },
     "execution_count": 40,
     "metadata": {},
     "output_type": "execute_result"
    }
   ],
   "source": [
    "from catboost import CatBoostClassifier\n",
    "\n",
    "Cat_model = CatBoostClassifier(loss_function = 'Logloss',\n",
    "                               depth = 8,\n",
    "                               learning_rate =0.1,\n",
    "                               iterations=300,\n",
    "                               )\n",
    "\n",
    "Cat_model.fit(X_train,y_train,cat_features = new_cat_cols)"
   ]
  },
  {
   "cell_type": "markdown",
   "metadata": {},
   "source": [
    "### Prediction / Train Score "
   ]
  },
  {
   "cell_type": "code",
   "execution_count": 41,
   "metadata": {},
   "outputs": [
    {
     "name": "stdout",
     "output_type": "stream",
     "text": [
      "0.8824517705694443\n"
     ]
    }
   ],
   "source": [
    "#Predicting on train data \n",
    "train_pred = Cat_model.predict_proba(X_train)[:,1]\n",
    "# Getting ROC_AUC Score \n",
    "Train_score_LGB = roc_auc_score(y_train,train_pred)\n",
    "# Printing Score \n",
    "print(Train_score_LGB)"
   ]
  },
  {
   "cell_type": "markdown",
   "metadata": {},
   "source": [
    "### Predicting on test data and final submission "
   ]
  },
  {
   "cell_type": "code",
   "execution_count": 42,
   "metadata": {},
   "outputs": [],
   "source": [
    "#Predicting on test data \n",
    "test_pred = Cat_model.predict_proba(X_test)[:,1]"
   ]
  },
  {
   "cell_type": "code",
   "execution_count": 43,
   "metadata": {},
   "outputs": [],
   "source": [
    "# Predictions \n",
    "res = pd.DataFrame(test_pred)\n",
    "ID = pd.DataFrame(ID)\n",
    "res = res.rename(columns={res.columns[0]: 'Is_Lead'})\n",
    "submission = pd.concat([ID,res], axis = 1)\n",
    "\n",
    "submission.to_csv(\"Catboost_last.csv\",index = False)"
   ]
  }
 ],
 "metadata": {
  "kernelspec": {
   "display_name": "Python 3",
   "language": "python",
   "name": "python3"
  },
  "language_info": {
   "codemirror_mode": {
    "name": "ipython",
    "version": 3
   },
   "file_extension": ".py",
   "mimetype": "text/x-python",
   "name": "python",
   "nbconvert_exporter": "python",
   "pygments_lexer": "ipython3",
   "version": "3.8.5"
  }
 },
 "nbformat": 4,
 "nbformat_minor": 4
}
